{
  "nbformat": 4,
  "nbformat_minor": 0,
  "metadata": {
    "colab": {
      "name": "BMS_NumPy_in_Python_01.ipynb",
      "provenance": [],
      "collapsed_sections": [],
      "include_colab_link": true
    },
    "kernelspec": {
      "name": "python3",
      "display_name": "Python 3"
    }
  },
  "cells": [
    {
      "cell_type": "markdown",
      "metadata": {
        "id": "view-in-github",
        "colab_type": "text"
      },
      "source": [
        "<a href=\"https://colab.research.google.com/github/muthuram1980/muthuramg/blob/master/BMS_NumPy_in_Python_01.ipynb\" target=\"_parent\"><img src=\"https://colab.research.google.com/assets/colab-badge.svg\" alt=\"Open In Colab\"/></a>"
      ]
    },
    {
      "cell_type": "markdown",
      "metadata": {
        "id": "M4-BFThfjgPm",
        "colab_type": "text"
      },
      "source": [
        "# **Using NumPy Library in Python - 01**\n"
      ]
    },
    {
      "cell_type": "markdown",
      "metadata": {
        "id": "qGBFEfOxkh_T",
        "colab_type": "text"
      },
      "source": [
        "**NumPy is a general-purpose array-processing package. It provides a high-performance multidimensional array object, and tools for working with these arrays.**\n",
        "\n",
        "**It is the fundamental package for scientific computing with Python**\n",
        "\n",
        "**It contains various features including these important ones:**\n",
        "\n",
        "**a) A powerful N-dimensional array object**\n",
        "\n",
        "**b) Sophisticated (broadcasting) functions**\n",
        "\n",
        "**c) Tools for integrating C/C++ and Fortran code**\n",
        "\n",
        "**d) Useful linear algebra, Fourier transform, and random number capabilities**\n",
        "\n",
        "Besides its obvious scientific uses, NumPy can also be used as an efficient multi-dimensional container of generic data.\n",
        "\n",
        "Arbitrary data-types can be defined using Numpy which allows NumPy to seamlessly and speedily integrate with a wide variety of databases.\n",
        "\n"
      ]
    },
    {
      "cell_type": "markdown",
      "metadata": {
        "id": "oLzEn94cl42O",
        "colab_type": "text"
      },
      "source": [
        "# **1) Arrays in NumPy**\n",
        "\n",
        "**NumPy’s main object is the homogeneous multidimensional array.**\n",
        "\n",
        "**It is a table of elements (usually numbers), all of the same type, indexed by a tuple of positive integers.**\n",
        "\n",
        "**In NumPy dimensions are called  axes. The number of axes is rank.**\n",
        "\n",
        "**NumPy’s array class is called ndarray. It is also known by the alias array.**"
      ]
    },
    {
      "cell_type": "code",
      "metadata": {
        "id": "gG_gH_xDN36w",
        "colab_type": "code",
        "outputId": "af55cc55-75a9-4f35-cbb3-dc1dfaeee727",
        "colab": {
          "base_uri": "https://localhost:8080/",
          "height": 254
        }
      },
      "source": [
        "import numpy as np \n",
        "  \n",
        "A = np.array([1, 2, 3]) \n",
        "\n",
        "print(A)\n",
        "\n",
        "print(\"\\nType of A: \", type(A)) \n",
        "  \n",
        "print(\"\\nDimension of A: \", A.ndim) \n",
        "  \n",
        "print(\"\\nShape of A: \", A.shape) \n",
        "\n",
        "print(\"\\nSize of A: \", A.size)\n",
        "\n",
        "print(\"\\nElements Type of A: \", A.dtype)\n",
        "  \n",
        "print(\"\\nRank of A: \", np.linalg.matrix_rank(A)) \n",
        "  \n",
        "#print(\"\\nTrace of A: \", np.trace(A)) \n",
        "  \n"
      ],
      "execution_count": 0,
      "outputs": [
        {
          "output_type": "stream",
          "text": [
            "[1 2 3]\n",
            "\n",
            "Type of A:  <class 'numpy.ndarray'>\n",
            "\n",
            "Dimension of A:  1\n",
            "\n",
            "Shape of A:  (3,)\n",
            "\n",
            "Size of A:  3\n",
            "\n",
            "Elements Type of A:  int64\n",
            "\n",
            "Rank of A:  1\n"
          ],
          "name": "stdout"
        }
      ]
    },
    {
      "cell_type": "code",
      "metadata": {
        "id": "mzavnOIMKB5T",
        "colab_type": "code",
        "outputId": "231399c6-2300-4e36-cc73-2282825b29d8",
        "colab": {
          "base_uri": "https://localhost:8080/",
          "height": 345
        }
      },
      "source": [
        "import numpy as np \n",
        "  \n",
        "B = np.array([[1, 2, 3], \n",
        "              [4, 2, 6], \n",
        "              [7, 5, 9]]) \n",
        "\n",
        "print(B)\n",
        "\n",
        "print()\n",
        "\n",
        "print(\"\\nType of B: \", type(B)) \n",
        "  \n",
        "print(\"\\nDimension of B: \", B.ndim) \n",
        "  \n",
        "print(\"\\nShape of B: \", B.shape) \n",
        "\n",
        "print(\"\\nSize of B: \", B.size)\n",
        "\n",
        "print(\"\\nElements Type of B: \", B.dtype)\n",
        "  \n",
        "print(\"\\nRank of B: \", np.linalg.matrix_rank(B)) \n",
        "  \n",
        "print(\"\\nTrace of B: \", np.trace(B)) \n",
        "  \n"
      ],
      "execution_count": 0,
      "outputs": [
        {
          "output_type": "stream",
          "text": [
            "[[1 2 3]\n",
            " [4 2 6]\n",
            " [7 5 9]]\n",
            "\n",
            "\n",
            "Type of B:  <class 'numpy.ndarray'>\n",
            "\n",
            "Dimension of B:  2\n",
            "\n",
            "Shape of B:  (3, 3)\n",
            "\n",
            "Size of B:  9\n",
            "\n",
            "Elements Type of B:  int64\n",
            "\n",
            "Rank of B:  3\n",
            "\n",
            "Trace of B:  12\n"
          ],
          "name": "stdout"
        }
      ]
    },
    {
      "cell_type": "code",
      "metadata": {
        "id": "fOOKMgApO21u",
        "colab_type": "code",
        "outputId": "4a641d19-0cfb-4289-feaf-116b27c97c31",
        "colab": {
          "base_uri": "https://localhost:8080/",
          "height": 490
        }
      },
      "source": [
        "A = np.array([1, 2, 3]) \n",
        "B = np.array([[1, 2, 3], \n",
        "              [4, 2, 6], \n",
        "              [7, 5, 9]]) \n",
        "C = np.array([[[1, 2, 3], \n",
        "              [2, 4, 6], \n",
        "              [7, 5, 9]]]) \n",
        "D = np.array([[[1, 2, 3], \n",
        "              [2, 4, 6], \n",
        "              [4, 8, 12]]]) \n",
        "print(\"\\n Array A :\\n\", A)\n",
        "print(\"\\nRank of A: \", np.linalg.matrix_rank(A)) \n",
        "print(\"\\n Array B :\\n\", B)\n",
        "print(\"\\nRank of B: \", np.linalg.matrix_rank(B)) \n",
        "print(\"\\n Array C :\\n\", C)\n",
        "print(\"\\nRank of C: \", np.linalg.matrix_rank(C)) \n",
        "print(\"\\n Array D :\\n\", D)\n",
        "print(\"\\nRank of D: \", np.linalg.matrix_rank(D)) \n"
      ],
      "execution_count": 0,
      "outputs": [
        {
          "output_type": "stream",
          "text": [
            "\n",
            " Array A :\n",
            " [1 2 3]\n",
            "\n",
            "Rank of A:  1\n",
            "\n",
            " Array B :\n",
            " [[1 2 3]\n",
            " [4 2 6]\n",
            " [7 5 9]]\n",
            "\n",
            "Rank of B:  3\n",
            "\n",
            " Array C :\n",
            " [[[1 2 3]\n",
            "  [2 4 6]\n",
            "  [7 5 9]]]\n",
            "\n",
            "Rank of C:  [2]\n",
            "\n",
            " Array D :\n",
            " [[[ 1  2  3]\n",
            "  [ 2  4  6]\n",
            "  [ 4  8 12]]]\n",
            "\n",
            "Rank of D:  [1]\n"
          ],
          "name": "stdout"
        }
      ]
    },
    {
      "cell_type": "markdown",
      "metadata": {
        "id": "yiJsq7i9oFtD",
        "colab_type": "text"
      },
      "source": [
        "# **2) Arrays Creation**\n",
        "\n",
        "**There are various ways to create arrays in NumPy.**\n",
        "\n",
        "**a) For example, you can create an array from a regular Python list or tuple using the array function. The type of the resulting array is deduced from the type of the elements in the sequences.**\n",
        "\n",
        "**b) Often, the elements of an array are originally unknown, but its size is known. Hence, NumPy offers several functions to create arrays with initial placeholder content. These minimize the necessity of growing arrays, an expensive operation.**\n",
        "\n",
        "**For example: np.zeros, np.ones, np.full, np.empty, etc.**\n",
        "\n",
        "**c) To create sequences of numbers, NumPy provides a function analogous to range that returns arrays instead of lists.**\n",
        "\n",
        "  **i) arange: returns evenly spaced values within a given interval. step size is specified**\n",
        "\n",
        "   **ii) linspace: returns evenly spaced values within a given interval. num no. of elements are returned.**\n",
        "\n",
        "**d) Reshaping array: We can use reshape method to reshape an array. Consider an array with shape (a1, a2, a3, …, aN). We can reshape and convert it into another array with shape (b1, b2, b3, …, bM). The only required condition is: a1 x a2 x a3 … x aN = b1 x b2 x b3 … x bM . (i.e original size of array remains unchanged.)**\n",
        "\n",
        "**e) Flatten array: We can use flatten method to get a copy of array collapsed into one dimension. It accepts order argument. Default value is ‘C’ (for row-major order). Use ‘F’ for column major order.**\n",
        "\n",
        "**Note: Type of array can be explicitly defined while creating array.**"
      ]
    },
    {
      "cell_type": "code",
      "metadata": {
        "colab_type": "code",
        "outputId": "ae2e8f0c-dbbc-4b0d-8b4d-970dc3addc2b",
        "id": "eg6rhilFe8Nn",
        "colab": {
          "base_uri": "https://localhost:8080/",
          "height": 763
        }
      },
      "source": [
        "# Python program to demonstrate \n",
        "# array creation techniques \n",
        "import numpy as np \n",
        "  \n",
        "# Creating array from the Python list \n",
        "a = np.array([1, 2, 4])\n",
        "print (\"Array created using passed list:\\n\", a) \n",
        "  \n",
        "# Creating array from tuple \n",
        "b = np.array((1, 3, 2)) \n",
        "print (\"\\nArray created using passed tuple:\\n\", b) \n",
        "  \n",
        "# Creating a 3X3 array with all zeros \n",
        "c = np.zeros((3, 3)) \n",
        "print (\"\\nAn array initialized with all zeros:\\n\", c) \n",
        "\n",
        "# Creating a 3X3 array with all ones \n",
        "c = np.ones((3, 3)) \n",
        "print (\"\\nAn array initialized with all ones:\\n\", c)\n",
        "\n",
        "# Creating a 3X3 array with all 7s \n",
        "d = np.full((3, 3), 7) \n",
        "print (\"\\nAn array initialized with all 7s:\\n\",d)\n",
        "  \n",
        "# Create a constant value array of float type \n",
        "d = np.full((3, 3), 7, dtype = 'float') \n",
        "print (\"\\nAn array initialized with all 7s. Array type is float:\\n\", d) \n",
        "\n",
        "# Create a constant value array of complex type \n",
        "e = np.full((3, 3), 6, dtype = 'complex') \n",
        "print (\"\\nAn array initialized with all 6s. Array type is complex:\\n\", e) \n",
        "\n",
        "# Create an array with random values \n",
        "f = np.random.random((2, 2)) \n",
        "print (\"\\nA random array:\\n\", f) \n",
        "  \n",
        "# Create a sequence of integers  \n",
        "# from 0 to 30 with steps of 5 \n",
        "g = np.arange(0, 30, 5) \n",
        "print (\"\\nA sequential array with steps of 5:\\n\", g) \n",
        "  \n",
        "# Create a sequence of 10 values in range 0 to 5 \n",
        "h = np.linspace(0, 5, 10) \n",
        "print (\"\\nA sequential array with 10 values between\"\n",
        "                                        \"0 and 5:\\n\", h) \n",
        "  \n"
      ],
      "execution_count": 0,
      "outputs": [
        {
          "output_type": "stream",
          "text": [
            "Array created using passed list:\n",
            " [1 2 4]\n",
            "\n",
            "Array created using passed tuple:\n",
            " [1 3 2]\n",
            "\n",
            "An array initialized with all zeros:\n",
            " [[0. 0. 0.]\n",
            " [0. 0. 0.]\n",
            " [0. 0. 0.]]\n",
            "\n",
            "An array initialized with all ones:\n",
            " [[1. 1. 1.]\n",
            " [1. 1. 1.]\n",
            " [1. 1. 1.]]\n",
            "\n",
            "An array initialized with all 7s:\n",
            " [[7 7 7]\n",
            " [7 7 7]\n",
            " [7 7 7]]\n",
            "\n",
            "An array initialized with all 7s. Array type is float:\n",
            " [[7. 7. 7.]\n",
            " [7. 7. 7.]\n",
            " [7. 7. 7.]]\n",
            "\n",
            "An array initialized with all 6s. Array type is complex:\n",
            " [[6.+0.j 6.+0.j 6.+0.j]\n",
            " [6.+0.j 6.+0.j 6.+0.j]\n",
            " [6.+0.j 6.+0.j 6.+0.j]]\n",
            "\n",
            "A random array:\n",
            " [[0.53651767 0.96016945]\n",
            " [0.55591698 0.99448555]]\n",
            "\n",
            "A sequential array with steps of 5:\n",
            " [ 0  5 10 15 20 25]\n",
            "\n",
            "A sequential array with 10 values between0 and 5:\n",
            " [0.         0.55555556 1.11111111 1.66666667 2.22222222 2.77777778\n",
            " 3.33333333 3.88888889 4.44444444 5.        ]\n"
          ],
          "name": "stdout"
        }
      ]
    },
    {
      "cell_type": "code",
      "metadata": {
        "colab_type": "code",
        "outputId": "c826a4ae-94de-4d0e-db56-9fb8a5f11861",
        "id": "x57ci-xFe4Ll",
        "colab": {
          "base_uri": "https://localhost:8080/",
          "height": 90
        }
      },
      "source": [
        "# Creating a 2x2 array with empty values \n",
        "i = np.empty([2, 2]) \n",
        "print (\"\\nAn array initialized with all empty values:\\n\", i)\n"
      ],
      "execution_count": 0,
      "outputs": [
        {
          "output_type": "stream",
          "text": [
            "\n",
            "An array initialized with all empty values:\n",
            " [[0.53651767 0.96016945]\n",
            " [0.55591698 0.99448555]]\n"
          ],
          "name": "stdout"
        }
      ]
    },
    {
      "cell_type": "markdown",
      "metadata": {
        "id": "ewP2CKsDg342",
        "colab_type": "text"
      },
      "source": [
        "### The np.empty() function is used to create a 2D array filled with all zeros. \n",
        "\n",
        "### Often the array is filled with values near zero because of the way memory and RAM works in the computer."
      ]
    },
    {
      "cell_type": "code",
      "metadata": {
        "id": "BUMxKM2Bgn6n",
        "colab_type": "code",
        "outputId": "c4df9f57-d4f3-477c-9e7e-5d5b86a0a56b",
        "colab": {
          "base_uri": "https://localhost:8080/",
          "height": 399
        }
      },
      "source": [
        "# Creation of arrays of different dimensions using random method \n",
        "\n",
        "np.random.seed(0)  # seed for reproducibility\n",
        "\n",
        "x1 = np.random.randint(10, size=6)  # One-dimensional array\n",
        "x2 = np.random.randint(10, size=(3, 3))  # Two-dimensional array\n",
        "x3 = np.random.randint(10, size=(3, 3, 3))  # Three-dimensional array\n",
        "print (\"\\nOne dimensional array:\\n\", x1)\n",
        "print (\"\\nTwo dimensional array:\\n\", x2)\n",
        "print (\"\\nThree dimensional array:\\n\", x3)\n"
      ],
      "execution_count": 0,
      "outputs": [
        {
          "output_type": "stream",
          "text": [
            "\n",
            "One dimensional array:\n",
            " [5 0 3 3 7 9]\n",
            "\n",
            "Two dimensional array:\n",
            " [[3 5 2]\n",
            " [4 7 6]\n",
            " [8 8 1]]\n",
            "\n",
            "Three dimensional array:\n",
            " [[[6 7 7]\n",
            "  [8 1 5]\n",
            "  [9 8 9]]\n",
            "\n",
            " [[4 3 0]\n",
            "  [3 5 0]\n",
            "  [2 3 8]]\n",
            "\n",
            " [[1 3 3]\n",
            "  [3 7 0]\n",
            "  [1 9 9]]]\n"
          ],
          "name": "stdout"
        }
      ]
    },
    {
      "cell_type": "markdown",
      "metadata": {
        "id": "VMHFFW2drP9d",
        "colab_type": "text"
      },
      "source": [
        "# **3) Array Indexing**\n",
        "\n",
        "**Knowing the basics of array indexing is important for analysing and manipulating the array object. NumPy offers many ways to do array indexing.**\n",
        "\n",
        "**Slicing: Just like lists in python, NumPy arrays can be sliced. As arrays can be multidimensional, you need to specify a slice for each dimension of the array.**\n",
        "\n",
        "**Integer array indexing: In this method, lists are passed for indexing for each dimension. One to one mapping of corresponding elements is done to construct a new arbitrary array.**\n",
        "\n",
        "**Boolean array indexing: This method is used when we want to pick elements from array which satisfy some condition.**"
      ]
    },
    {
      "cell_type": "markdown",
      "metadata": {
        "id": "1sOdCAzWuIEm",
        "colab_type": "text"
      },
      "source": [
        "## **a) Indexing related Operations in One Dimensional Array**"
      ]
    },
    {
      "cell_type": "code",
      "metadata": {
        "id": "6QjedQY7ml4I",
        "colab_type": "code",
        "outputId": "71c1c956-a07b-4446-8586-db1675a4f6c8",
        "colab": {
          "base_uri": "https://localhost:8080/",
          "height": 35
        }
      },
      "source": [
        "np.random.seed(0)  # seed for reproducibility\n",
        "x1 = np.random.randint(10, size=6)  # One-dimensional array\n",
        "x1"
      ],
      "execution_count": 0,
      "outputs": [
        {
          "output_type": "execute_result",
          "data": {
            "text/plain": [
              "array([5, 0, 3, 3, 7, 9])"
            ]
          },
          "metadata": {
            "tags": []
          },
          "execution_count": 8
        }
      ]
    },
    {
      "cell_type": "code",
      "metadata": {
        "id": "GBXE-khvm7K8",
        "colab_type": "code",
        "outputId": "0406daae-5647-4ae8-fd0d-e836cb8d5910",
        "colab": {
          "base_uri": "https://localhost:8080/",
          "height": 35
        }
      },
      "source": [
        "x1[0]"
      ],
      "execution_count": 0,
      "outputs": [
        {
          "output_type": "execute_result",
          "data": {
            "text/plain": [
              "5"
            ]
          },
          "metadata": {
            "tags": []
          },
          "execution_count": 9
        }
      ]
    },
    {
      "cell_type": "code",
      "metadata": {
        "id": "z5bDNbdznCu_",
        "colab_type": "code",
        "outputId": "d9a873c7-2a94-4492-9813-127045f31398",
        "colab": {
          "base_uri": "https://localhost:8080/",
          "height": 35
        }
      },
      "source": [
        "x1[4]"
      ],
      "execution_count": 0,
      "outputs": [
        {
          "output_type": "execute_result",
          "data": {
            "text/plain": [
              "7"
            ]
          },
          "metadata": {
            "tags": []
          },
          "execution_count": 10
        }
      ]
    },
    {
      "cell_type": "code",
      "metadata": {
        "id": "Yl-SRrmNnSYB",
        "colab_type": "code",
        "outputId": "9b21b03c-5562-4d15-b556-cc0e1330a9fe",
        "colab": {
          "base_uri": "https://localhost:8080/",
          "height": 35
        }
      },
      "source": [
        "x1[-1]"
      ],
      "execution_count": 0,
      "outputs": [
        {
          "output_type": "execute_result",
          "data": {
            "text/plain": [
              "9"
            ]
          },
          "metadata": {
            "tags": []
          },
          "execution_count": 11
        }
      ]
    },
    {
      "cell_type": "code",
      "metadata": {
        "id": "jpdMTQd_nVMl",
        "colab_type": "code",
        "outputId": "4bb53ffe-5b70-41a0-d319-3225ffe50eee",
        "colab": {
          "base_uri": "https://localhost:8080/",
          "height": 35
        }
      },
      "source": [
        "x1[-2]"
      ],
      "execution_count": 0,
      "outputs": [
        {
          "output_type": "execute_result",
          "data": {
            "text/plain": [
              "7"
            ]
          },
          "metadata": {
            "tags": []
          },
          "execution_count": 12
        }
      ]
    },
    {
      "cell_type": "code",
      "metadata": {
        "id": "ZiSAY-LPoRCT",
        "colab_type": "code",
        "outputId": "9fef341f-9543-40b7-9db7-726e21abd7ef",
        "colab": {
          "base_uri": "https://localhost:8080/",
          "height": 35
        }
      },
      "source": [
        "x1[0]=8\n",
        "x1"
      ],
      "execution_count": 0,
      "outputs": [
        {
          "output_type": "execute_result",
          "data": {
            "text/plain": [
              "array([8, 0, 3, 3, 7, 9])"
            ]
          },
          "metadata": {
            "tags": []
          },
          "execution_count": 13
        }
      ]
    },
    {
      "cell_type": "code",
      "metadata": {
        "id": "acuGZjEPqRxA",
        "colab_type": "code",
        "outputId": "24069b12-9fdb-45de-a179-ed8afd40d01a",
        "colab": {
          "base_uri": "https://localhost:8080/",
          "height": 35
        }
      },
      "source": [
        "x1[0] = 3.14159  # this will be truncated!\n",
        "x1"
      ],
      "execution_count": 0,
      "outputs": [
        {
          "output_type": "execute_result",
          "data": {
            "text/plain": [
              "array([3, 0, 3, 3, 7, 9])"
            ]
          },
          "metadata": {
            "tags": []
          },
          "execution_count": 14
        }
      ]
    },
    {
      "cell_type": "markdown",
      "metadata": {
        "id": "sibGnUoPuktf",
        "colab_type": "text"
      },
      "source": [
        "## **b) Indexing related Operations in Two Dimensional Array**"
      ]
    },
    {
      "cell_type": "code",
      "metadata": {
        "id": "WgerXqxcnmnG",
        "colab_type": "code",
        "outputId": "3dcff789-5022-47e3-e02b-c0b232c83ddd",
        "colab": {
          "base_uri": "https://localhost:8080/",
          "height": 72
        }
      },
      "source": [
        "np.random.seed(0)  # seed for reproducibility\n",
        "x2 = np.random.randint(10, size=(3, 3))  # Two-dimensional array\n",
        "x2"
      ],
      "execution_count": 0,
      "outputs": [
        {
          "output_type": "execute_result",
          "data": {
            "text/plain": [
              "array([[5, 0, 3],\n",
              "       [3, 7, 9],\n",
              "       [3, 5, 2]])"
            ]
          },
          "metadata": {
            "tags": []
          },
          "execution_count": 15
        }
      ]
    },
    {
      "cell_type": "code",
      "metadata": {
        "id": "Uz5JYCdTnuLY",
        "colab_type": "code",
        "outputId": "33fccd72-7a66-4917-a501-f0fe7b59ab31",
        "colab": {
          "base_uri": "https://localhost:8080/",
          "height": 35
        }
      },
      "source": [
        "x2[0,0]"
      ],
      "execution_count": 0,
      "outputs": [
        {
          "output_type": "execute_result",
          "data": {
            "text/plain": [
              "5"
            ]
          },
          "metadata": {
            "tags": []
          },
          "execution_count": 16
        }
      ]
    },
    {
      "cell_type": "code",
      "metadata": {
        "id": "lMdZ6X-Qn0ZV",
        "colab_type": "code",
        "outputId": "c45430e1-f2cc-4e16-e0c5-a6391673ed5c",
        "colab": {
          "base_uri": "https://localhost:8080/",
          "height": 35
        }
      },
      "source": [
        "x2[2,1]"
      ],
      "execution_count": 0,
      "outputs": [
        {
          "output_type": "execute_result",
          "data": {
            "text/plain": [
              "5"
            ]
          },
          "metadata": {
            "tags": []
          },
          "execution_count": 17
        }
      ]
    },
    {
      "cell_type": "code",
      "metadata": {
        "id": "E8nf4f2qoDwI",
        "colab_type": "code",
        "outputId": "8ecf9b53-cd1d-4b59-b2bd-229f7a8099a0",
        "colab": {
          "base_uri": "https://localhost:8080/",
          "height": 35
        }
      },
      "source": [
        "x2[2,-1]"
      ],
      "execution_count": 0,
      "outputs": [
        {
          "output_type": "execute_result",
          "data": {
            "text/plain": [
              "2"
            ]
          },
          "metadata": {
            "tags": []
          },
          "execution_count": 18
        }
      ]
    },
    {
      "cell_type": "code",
      "metadata": {
        "id": "bX8MuzTtoImx",
        "colab_type": "code",
        "outputId": "e98bc359-5d0b-418c-e870-3463bef47dbd",
        "colab": {
          "base_uri": "https://localhost:8080/",
          "height": 72
        }
      },
      "source": [
        "x2[0, 0] = 12\n",
        "x2"
      ],
      "execution_count": 0,
      "outputs": [
        {
          "output_type": "execute_result",
          "data": {
            "text/plain": [
              "array([[12,  0,  3],\n",
              "       [ 3,  7,  9],\n",
              "       [ 3,  5,  2]])"
            ]
          },
          "metadata": {
            "tags": []
          },
          "execution_count": 19
        }
      ]
    },
    {
      "cell_type": "code",
      "metadata": {
        "id": "Nxg73IStFOYz",
        "colab_type": "code",
        "outputId": "732ff93a-55d3-4b08-9242-8572f7eeed22",
        "colab": {
          "base_uri": "https://localhost:8080/",
          "height": 72
        }
      },
      "source": [
        "# Integer array indexing example \n",
        "temp = x2[[0, 1, 2, 1], [2, 2, 1, 0]] \n",
        "\n",
        "print (\"\\nElements at indices (0, 2), (1, 2), (2, 1),\"\n",
        "                                    \"(1, 0):\\n\", temp) "
      ],
      "execution_count": 0,
      "outputs": [
        {
          "output_type": "stream",
          "text": [
            "\n",
            "Elements at indices (0, 2), (1, 2), (2, 1),(1, 0):\n",
            " [3 9 5 3]\n"
          ],
          "name": "stdout"
        }
      ]
    },
    {
      "cell_type": "code",
      "metadata": {
        "id": "n9sar6LoFOrL",
        "colab_type": "code",
        "outputId": "06c31d7f-938f-4f1f-aef5-f0da8a90bf21",
        "colab": {
          "base_uri": "https://localhost:8080/",
          "height": 72
        }
      },
      "source": [
        "# boolean array indexing example \n",
        "cond = x2 > 0 # cond is a boolean array \n",
        "temp = x2[cond] \n",
        "print (\"\\nElements greater than 0:\\n\", temp) "
      ],
      "execution_count": 0,
      "outputs": [
        {
          "output_type": "stream",
          "text": [
            "\n",
            "Elements greater than 0:\n",
            " [12  3  3  7  9  3  5  2]\n"
          ],
          "name": "stdout"
        }
      ]
    },
    {
      "cell_type": "markdown",
      "metadata": {
        "id": "Ry1h6f1quzIM",
        "colab_type": "text"
      },
      "source": [
        "## **c) Indexing related Operations in Three Dimensional Array**"
      ]
    },
    {
      "cell_type": "code",
      "metadata": {
        "id": "D91IPBgWoZgg",
        "colab_type": "code",
        "outputId": "2ffd3158-c6ac-4040-c88d-e379d386cf62",
        "colab": {
          "base_uri": "https://localhost:8080/",
          "height": 217
        }
      },
      "source": [
        "np.random.seed(0)  # seed for reproducibility\n",
        "x3 = np.random.randint(10, size=(3, 3, 3))  # Three-dimensional array\n",
        "x3"
      ],
      "execution_count": 0,
      "outputs": [
        {
          "output_type": "execute_result",
          "data": {
            "text/plain": [
              "array([[[5, 0, 3],\n",
              "        [3, 7, 9],\n",
              "        [3, 5, 2]],\n",
              "\n",
              "       [[4, 7, 6],\n",
              "        [8, 8, 1],\n",
              "        [6, 7, 7]],\n",
              "\n",
              "       [[8, 1, 5],\n",
              "        [9, 8, 9],\n",
              "        [4, 3, 0]]])"
            ]
          },
          "metadata": {
            "tags": []
          },
          "execution_count": 22
        }
      ]
    },
    {
      "cell_type": "code",
      "metadata": {
        "id": "-gt-RojUovgV",
        "colab_type": "code",
        "outputId": "58cb02d8-2cc7-4381-fe4e-8e7cc210b607",
        "colab": {
          "base_uri": "https://localhost:8080/",
          "height": 35
        }
      },
      "source": [
        "x3[0,0,0]"
      ],
      "execution_count": 0,
      "outputs": [
        {
          "output_type": "execute_result",
          "data": {
            "text/plain": [
              "5"
            ]
          },
          "metadata": {
            "tags": []
          },
          "execution_count": 23
        }
      ]
    },
    {
      "cell_type": "code",
      "metadata": {
        "id": "-uhP9hhvo4oK",
        "colab_type": "code",
        "outputId": "c13be350-d9e0-4fbc-e705-1da9d9190246",
        "colab": {
          "base_uri": "https://localhost:8080/",
          "height": 35
        }
      },
      "source": [
        "x3[1,0,0]"
      ],
      "execution_count": 0,
      "outputs": [
        {
          "output_type": "execute_result",
          "data": {
            "text/plain": [
              "4"
            ]
          },
          "metadata": {
            "tags": []
          },
          "execution_count": 24
        }
      ]
    },
    {
      "cell_type": "code",
      "metadata": {
        "id": "NDbFl3topSEZ",
        "colab_type": "code",
        "outputId": "cc3e987c-32d6-4300-f66a-b8aec5d6a8a5",
        "colab": {
          "base_uri": "https://localhost:8080/",
          "height": 35
        }
      },
      "source": [
        "x3[2,0,0]"
      ],
      "execution_count": 0,
      "outputs": [
        {
          "output_type": "execute_result",
          "data": {
            "text/plain": [
              "8"
            ]
          },
          "metadata": {
            "tags": []
          },
          "execution_count": 25
        }
      ]
    },
    {
      "cell_type": "code",
      "metadata": {
        "id": "JRvl2wa-pZiM",
        "colab_type": "code",
        "outputId": "a3ad657d-b16c-40c2-f238-0032f823f977",
        "colab": {
          "base_uri": "https://localhost:8080/",
          "height": 35
        }
      },
      "source": [
        "x3[2,2,2]"
      ],
      "execution_count": 0,
      "outputs": [
        {
          "output_type": "execute_result",
          "data": {
            "text/plain": [
              "0"
            ]
          },
          "metadata": {
            "tags": []
          },
          "execution_count": 26
        }
      ]
    },
    {
      "cell_type": "code",
      "metadata": {
        "id": "31h0O3YZpnem",
        "colab_type": "code",
        "outputId": "e8b52598-6566-4dfb-8f5a-9908def3d306",
        "colab": {
          "base_uri": "https://localhost:8080/",
          "height": 217
        }
      },
      "source": [
        "x3[2,2,2] = 11\n",
        "x3"
      ],
      "execution_count": 0,
      "outputs": [
        {
          "output_type": "execute_result",
          "data": {
            "text/plain": [
              "array([[[ 5,  0,  3],\n",
              "        [ 3,  7,  9],\n",
              "        [ 3,  5,  2]],\n",
              "\n",
              "       [[ 4,  7,  6],\n",
              "        [ 8,  8,  1],\n",
              "        [ 6,  7,  7]],\n",
              "\n",
              "       [[ 8,  1,  5],\n",
              "        [ 9,  8,  9],\n",
              "        [ 4,  3, 11]]])"
            ]
          },
          "metadata": {
            "tags": []
          },
          "execution_count": 27
        }
      ]
    },
    {
      "cell_type": "markdown",
      "metadata": {
        "id": "KgOmjhG-thGP",
        "colab_type": "text"
      },
      "source": [
        "# **4) Arrays Slicing**"
      ]
    },
    {
      "cell_type": "markdown",
      "metadata": {
        "id": "U7U6KD_AvK1f",
        "colab_type": "text"
      },
      "source": [
        "## **a) Slicing Operations on One Dimensional Array**"
      ]
    },
    {
      "cell_type": "code",
      "metadata": {
        "id": "EiaVjm9rqb2u",
        "colab_type": "code",
        "outputId": "022e5e9b-7073-4ba1-b3f7-1a219093d3e2",
        "colab": {
          "base_uri": "https://localhost:8080/",
          "height": 35
        }
      },
      "source": [
        "z1 = np.arange(10)\n",
        "z1"
      ],
      "execution_count": 0,
      "outputs": [
        {
          "output_type": "execute_result",
          "data": {
            "text/plain": [
              "array([0, 1, 2, 3, 4, 5, 6, 7, 8, 9])"
            ]
          },
          "metadata": {
            "tags": []
          },
          "execution_count": 28
        }
      ]
    },
    {
      "cell_type": "code",
      "metadata": {
        "id": "ZGmypwvHqiA3",
        "colab_type": "code",
        "outputId": "47636acc-6b18-4d27-93e8-b18ac3b592bd",
        "colab": {
          "base_uri": "https://localhost:8080/",
          "height": 35
        }
      },
      "source": [
        "z1[:5]  # first five elements"
      ],
      "execution_count": 0,
      "outputs": [
        {
          "output_type": "execute_result",
          "data": {
            "text/plain": [
              "array([0, 1, 2, 3, 4])"
            ]
          },
          "metadata": {
            "tags": []
          },
          "execution_count": 29
        }
      ]
    },
    {
      "cell_type": "code",
      "metadata": {
        "id": "qhygLo8oqtzg",
        "colab_type": "code",
        "outputId": "a843e51f-19f5-4c6d-b85f-4f0684e52471",
        "colab": {
          "base_uri": "https://localhost:8080/",
          "height": 35
        }
      },
      "source": [
        "z1[5:]  # elements after index 5"
      ],
      "execution_count": 0,
      "outputs": [
        {
          "output_type": "execute_result",
          "data": {
            "text/plain": [
              "array([5, 6, 7, 8, 9])"
            ]
          },
          "metadata": {
            "tags": []
          },
          "execution_count": 30
        }
      ]
    },
    {
      "cell_type": "code",
      "metadata": {
        "id": "xIYFvhLSq3Wp",
        "colab_type": "code",
        "outputId": "4847fb17-b7ab-457a-f500-7aeccb67a181",
        "colab": {
          "base_uri": "https://localhost:8080/",
          "height": 35
        }
      },
      "source": [
        "z1[4:7]  # middle sub-array"
      ],
      "execution_count": 0,
      "outputs": [
        {
          "output_type": "execute_result",
          "data": {
            "text/plain": [
              "array([4, 5, 6])"
            ]
          },
          "metadata": {
            "tags": []
          },
          "execution_count": 31
        }
      ]
    },
    {
      "cell_type": "code",
      "metadata": {
        "id": "FZHjsJGRrAuY",
        "colab_type": "code",
        "outputId": "7dbf76d2-70c5-4da6-a0c2-b7154a722eaa",
        "colab": {
          "base_uri": "https://localhost:8080/",
          "height": 35
        }
      },
      "source": [
        "z1[::2]  # every other element"
      ],
      "execution_count": 0,
      "outputs": [
        {
          "output_type": "execute_result",
          "data": {
            "text/plain": [
              "array([0, 2, 4, 6, 8])"
            ]
          },
          "metadata": {
            "tags": []
          },
          "execution_count": 32
        }
      ]
    },
    {
      "cell_type": "code",
      "metadata": {
        "id": "QLpn8QxSrHk6",
        "colab_type": "code",
        "outputId": "65695ac5-6131-426b-cf86-11a6fa060196",
        "colab": {
          "base_uri": "https://localhost:8080/",
          "height": 35
        }
      },
      "source": [
        "z1[1::2]  # every other element, starting at index 1"
      ],
      "execution_count": 0,
      "outputs": [
        {
          "output_type": "execute_result",
          "data": {
            "text/plain": [
              "array([1, 3, 5, 7, 9])"
            ]
          },
          "metadata": {
            "tags": []
          },
          "execution_count": 33
        }
      ]
    },
    {
      "cell_type": "code",
      "metadata": {
        "id": "nyurMXqBrN-z",
        "colab_type": "code",
        "outputId": "bf1fcef9-ff9c-4749-b1d5-cdb82a296580",
        "colab": {
          "base_uri": "https://localhost:8080/",
          "height": 35
        }
      },
      "source": [
        "z1[::-1]  # all elements, reversed"
      ],
      "execution_count": 0,
      "outputs": [
        {
          "output_type": "execute_result",
          "data": {
            "text/plain": [
              "array([9, 8, 7, 6, 5, 4, 3, 2, 1, 0])"
            ]
          },
          "metadata": {
            "tags": []
          },
          "execution_count": 34
        }
      ]
    },
    {
      "cell_type": "code",
      "metadata": {
        "id": "ZpTSKKQJrYjR",
        "colab_type": "code",
        "outputId": "5663e672-91cb-4fda-a0d6-62ce2c9906f1",
        "colab": {
          "base_uri": "https://localhost:8080/",
          "height": 35
        }
      },
      "source": [
        "z1[5::-2]  # reversed every other from index 5"
      ],
      "execution_count": 0,
      "outputs": [
        {
          "output_type": "execute_result",
          "data": {
            "text/plain": [
              "array([5, 3, 1])"
            ]
          },
          "metadata": {
            "tags": []
          },
          "execution_count": 35
        }
      ]
    },
    {
      "cell_type": "markdown",
      "metadata": {
        "id": "eehRM7dOrj_R",
        "colab_type": "text"
      },
      "source": [
        "## **b) Slicing Operations on Two Dimensional Array**"
      ]
    },
    {
      "cell_type": "code",
      "metadata": {
        "id": "safeOXxvrsTW",
        "colab_type": "code",
        "outputId": "c6ced7f4-de13-4aea-ae89-bdd7347d142f",
        "colab": {
          "base_uri": "https://localhost:8080/",
          "height": 72
        }
      },
      "source": [
        "z2 = np.random.randint(10, size=(3, 4))  # Two-dimensional array\n",
        "z2"
      ],
      "execution_count": 0,
      "outputs": [
        {
          "output_type": "execute_result",
          "data": {
            "text/plain": [
              "array([[3, 5, 0, 2],\n",
              "       [3, 8, 1, 3],\n",
              "       [3, 3, 7, 0]])"
            ]
          },
          "metadata": {
            "tags": []
          },
          "execution_count": 36
        }
      ]
    },
    {
      "cell_type": "code",
      "metadata": {
        "id": "2AmrXc7trsep",
        "colab_type": "code",
        "outputId": "8e592d30-3a6c-4459-d5ee-fbf2c2125405",
        "colab": {
          "base_uri": "https://localhost:8080/",
          "height": 54
        }
      },
      "source": [
        "z2[:2, :3]  # first two rows and first three columns"
      ],
      "execution_count": 0,
      "outputs": [
        {
          "output_type": "execute_result",
          "data": {
            "text/plain": [
              "array([[3, 5, 0],\n",
              "       [3, 8, 1]])"
            ]
          },
          "metadata": {
            "tags": []
          },
          "execution_count": 37
        }
      ]
    },
    {
      "cell_type": "code",
      "metadata": {
        "id": "Di-vWUZ7rsr0",
        "colab_type": "code",
        "outputId": "7a7818c2-a0b2-4db6-9b93-dcfe73a5d8f7",
        "colab": {
          "base_uri": "https://localhost:8080/",
          "height": 72
        }
      },
      "source": [
        "z2[:3, ::2]  # all rows, every other column"
      ],
      "execution_count": 0,
      "outputs": [
        {
          "output_type": "execute_result",
          "data": {
            "text/plain": [
              "array([[3, 0],\n",
              "       [3, 1],\n",
              "       [3, 7]])"
            ]
          },
          "metadata": {
            "tags": []
          },
          "execution_count": 38
        }
      ]
    },
    {
      "cell_type": "code",
      "metadata": {
        "id": "9DHH1XtOsUqZ",
        "colab_type": "code",
        "outputId": "46d0e45d-bf8e-4f63-92f0-cc1fc83b61cc",
        "colab": {
          "base_uri": "https://localhost:8080/",
          "height": 126
        }
      },
      "source": [
        "print(z2)\n",
        "z2[::-1, ::-1] # Reverse first rowwise and then columnwise"
      ],
      "execution_count": 0,
      "outputs": [
        {
          "output_type": "stream",
          "text": [
            "[[3 5 0 2]\n",
            " [3 8 1 3]\n",
            " [3 3 7 0]]\n"
          ],
          "name": "stdout"
        },
        {
          "output_type": "execute_result",
          "data": {
            "text/plain": [
              "array([[0, 7, 3, 3],\n",
              "       [3, 1, 8, 3],\n",
              "       [2, 0, 5, 3]])"
            ]
          },
          "metadata": {
            "tags": []
          },
          "execution_count": 39
        }
      ]
    },
    {
      "cell_type": "code",
      "metadata": {
        "id": "x1Rs7GgPtE-l",
        "colab_type": "code",
        "outputId": "a2286cb1-1877-49ce-9d72-f80337e88b35",
        "colab": {
          "base_uri": "https://localhost:8080/",
          "height": 35
        }
      },
      "source": [
        "print(z2[:, 0])  # first column of z2"
      ],
      "execution_count": 0,
      "outputs": [
        {
          "output_type": "stream",
          "text": [
            "[3 3 3]\n"
          ],
          "name": "stdout"
        }
      ]
    },
    {
      "cell_type": "code",
      "metadata": {
        "id": "MOrbG3mRtLk7",
        "colab_type": "code",
        "outputId": "1c508aaf-1837-4046-ee08-23578fc8e761",
        "colab": {
          "base_uri": "https://localhost:8080/",
          "height": 35
        }
      },
      "source": [
        "print(z2[0, :])  # first row of x2"
      ],
      "execution_count": 0,
      "outputs": [
        {
          "output_type": "stream",
          "text": [
            "[3 5 0 2]\n"
          ],
          "name": "stdout"
        }
      ]
    },
    {
      "cell_type": "code",
      "metadata": {
        "id": "CLLa2M9XtTW1",
        "colab_type": "code",
        "outputId": "c0d93f7d-2a15-4c5d-fa44-63a93e734823",
        "colab": {
          "base_uri": "https://localhost:8080/",
          "height": 35
        }
      },
      "source": [
        "print(z2[0])  # equivalent to x2[0, :]"
      ],
      "execution_count": 0,
      "outputs": [
        {
          "output_type": "stream",
          "text": [
            "[3 5 0 2]\n"
          ],
          "name": "stdout"
        }
      ]
    },
    {
      "cell_type": "markdown",
      "metadata": {
        "id": "MYHgXrXQv3DS",
        "colab_type": "text"
      },
      "source": [
        "## **b) Slicing Operations on Three Dimensional Array**"
      ]
    },
    {
      "cell_type": "code",
      "metadata": {
        "id": "Oiwiaw7vv9st",
        "colab_type": "code",
        "outputId": "8836f88e-6c0e-4417-e188-d8910aa07c6d",
        "colab": {
          "base_uri": "https://localhost:8080/",
          "height": 217
        }
      },
      "source": [
        "np.random.seed(0)  # seed for reproducibility\n",
        "z3 = np.random.randint(10, size=(3, 3, 3))  # Three-dimensional array\n",
        "z3"
      ],
      "execution_count": 0,
      "outputs": [
        {
          "output_type": "execute_result",
          "data": {
            "text/plain": [
              "array([[[5, 0, 3],\n",
              "        [3, 7, 9],\n",
              "        [3, 5, 2]],\n",
              "\n",
              "       [[4, 7, 6],\n",
              "        [8, 8, 1],\n",
              "        [6, 7, 7]],\n",
              "\n",
              "       [[8, 1, 5],\n",
              "        [9, 8, 9],\n",
              "        [4, 3, 0]]])"
            ]
          },
          "metadata": {
            "tags": []
          },
          "execution_count": 43
        }
      ]
    },
    {
      "cell_type": "code",
      "metadata": {
        "id": "k8FFJEKywUwU",
        "colab_type": "code",
        "outputId": "aafceb0f-4dd5-4b21-ceed-5b533a8ec052",
        "colab": {
          "base_uri": "https://localhost:8080/",
          "height": 54
        }
      },
      "source": [
        "z3[0, :2, :2]  # first two rows and first two columns of the first dimension"
      ],
      "execution_count": 0,
      "outputs": [
        {
          "output_type": "execute_result",
          "data": {
            "text/plain": [
              "array([[5, 0],\n",
              "       [3, 7]])"
            ]
          },
          "metadata": {
            "tags": []
          },
          "execution_count": 44
        }
      ]
    },
    {
      "cell_type": "code",
      "metadata": {
        "id": "tx8Zr9qJwwpH",
        "colab_type": "code",
        "outputId": "4c38cd08-4607-4080-9ca1-95279b3898c8",
        "colab": {
          "base_uri": "https://localhost:8080/",
          "height": 54
        }
      },
      "source": [
        "z3[1, :2, :2]  # first two rows and first two columns of the second dimension"
      ],
      "execution_count": 0,
      "outputs": [
        {
          "output_type": "execute_result",
          "data": {
            "text/plain": [
              "array([[4, 7],\n",
              "       [8, 8]])"
            ]
          },
          "metadata": {
            "tags": []
          },
          "execution_count": 45
        }
      ]
    },
    {
      "cell_type": "code",
      "metadata": {
        "id": "_kHGOnD2w2um",
        "colab_type": "code",
        "outputId": "6c529ad6-1cfe-4ddd-a8ef-466feeae190d",
        "colab": {
          "base_uri": "https://localhost:8080/",
          "height": 54
        }
      },
      "source": [
        "z3[2, :2, :2]  # first two rows and first two columns of the third dimension"
      ],
      "execution_count": 0,
      "outputs": [
        {
          "output_type": "execute_result",
          "data": {
            "text/plain": [
              "array([[8, 1],\n",
              "       [9, 8]])"
            ]
          },
          "metadata": {
            "tags": []
          },
          "execution_count": 46
        }
      ]
    },
    {
      "cell_type": "markdown",
      "metadata": {
        "id": "f3_DYYowsxSx",
        "colab_type": "text"
      },
      "source": [
        "# **5) Standard Operations on Arrays**\n",
        "\n",
        "**Plethora of built-in arithmetic functions are provided in NumPy.**\n",
        "\n",
        "## **a) Using Basic Arithmetic Operators**\n",
        "\n",
        "**We can use overloaded arithmetic operators to do element-wise operation on array to create a new array. In case of +=, -=, *= operators, the exsisting array is modified** "
      ]
    },
    {
      "cell_type": "code",
      "metadata": {
        "id": "hX-vGX45tM81",
        "colab_type": "code",
        "outputId": "7655cb93-0c54-4e25-ca29-0bcf91830e94",
        "colab": {
          "base_uri": "https://localhost:8080/",
          "height": 272
        }
      },
      "source": [
        "# Python program to demonstrate \n",
        "# basic operations on single array \n",
        "import numpy as np \n",
        "  \n",
        "a = np.array([1, 2, 5, 3]) \n",
        "  \n",
        "# add 1 to every element \n",
        "print (\"Adding 1 to every element:\", a+1) \n",
        "  \n",
        "# subtract 3 from each element \n",
        "print (\"Subtracting 3 from each element:\", a-3) \n",
        "  \n",
        "# multiply each element by 10 \n",
        "print (\"Multiplying each element by 10:\", a*10) \n",
        "  \n",
        "# square each element \n",
        "print (\"Squaring each element:\", a**2) \n",
        "  \n",
        "# modify existing array \n",
        "a *= 2\n",
        "print (\"Doubled each element of original array:\", a) \n",
        "  \n",
        "# transpose of array \n",
        "a = np.array([[1, 2, 3], [3, 4, 5], [9, 6, 0]]) \n",
        "  \n",
        "print (\"\\nOriginal array:\\n\", a) \n",
        "print (\"Transpose of array:\\n\", a.T) "
      ],
      "execution_count": 0,
      "outputs": [
        {
          "output_type": "stream",
          "text": [
            "Adding 1 to every element: [2 3 6 4]\n",
            "Subtracting 3 from each element: [-2 -1  2  0]\n",
            "Multiplying each element by 10: [10 20 50 30]\n",
            "Squaring each element: [ 1  4 25  9]\n",
            "Doubled each element of original array: [ 2  4 10  6]\n",
            "\n",
            "Original array:\n",
            " [[1 2 3]\n",
            " [3 4 5]\n",
            " [9 6 0]]\n",
            "Transpose of array:\n",
            " [[1 3 9]\n",
            " [2 4 6]\n",
            " [3 5 0]]\n"
          ],
          "name": "stdout"
        }
      ]
    },
    {
      "cell_type": "markdown",
      "metadata": {
        "id": "gNtObvREttxE",
        "colab_type": "text"
      },
      "source": [
        "## **b) Using Unary operators**\n",
        "\n",
        "**Many unary operations are provided as a method of ndarray class. This includes sum, min, max, etc. These functions can also be applied row-wise or column-wise by setting an axis parameter.**"
      ]
    },
    {
      "cell_type": "code",
      "metadata": {
        "id": "ScqYwuSYt-bk",
        "colab_type": "code",
        "outputId": "fa9edc62-7c32-4eda-87e7-c8c3a075c20b",
        "colab": {
          "base_uri": "https://localhost:8080/",
          "height": 163
        }
      },
      "source": [
        "# Python program to demonstrate \n",
        "# unary operators in numpy \n",
        "import numpy as np \n",
        "  \n",
        "arr = np.array([[1, 5, 6], \n",
        "                [4, 7, 2], \n",
        "                [3, 1, 9]]) \n",
        "  \n",
        "# maximum element of array \n",
        "print (\"Largest element is:\", arr.max()) \n",
        "print (\"Row-wise maximum elements:\", \n",
        "                    arr.max(axis = 1)) \n",
        "  \n",
        "# minimum element of array \n",
        "print (\"Column-wise minimum elements:\", \n",
        "                        arr.min(axis = 0)) \n",
        "  \n",
        "# sum of array elements \n",
        "print (\"Sum of all array elements:\", \n",
        "                            arr.sum()) \n",
        "  \n",
        "# cumulative sum along each row \n",
        "print (\"Cumulative sum along each row:\\n\", \n",
        "                        arr.cumsum(axis = 1)) "
      ],
      "execution_count": 0,
      "outputs": [
        {
          "output_type": "stream",
          "text": [
            "Largest element is: 9\n",
            "Row-wise maximum elements: [6 7 9]\n",
            "Column-wise minimum elements: [1 1 2]\n",
            "Sum of all array elements: 38\n",
            "Cumulative sum along each row:\n",
            " [[ 1  6 12]\n",
            " [ 4 11 13]\n",
            " [ 3  4 13]]\n"
          ],
          "name": "stdout"
        }
      ]
    },
    {
      "cell_type": "markdown",
      "metadata": {
        "id": "mU-q5xvgujlD",
        "colab_type": "text"
      },
      "source": [
        "## **c) Using Binary operators**\n",
        "\n",
        "**These operations apply on array elementwise and a new array is created. You can use all basic arithmetic operators like +, -, /, , etc. In case of +=, -=, = operators, the exsisting array is modified.**"
      ]
    },
    {
      "cell_type": "code",
      "metadata": {
        "id": "Oq2X8kmNuNjd",
        "colab_type": "code",
        "outputId": "85ef5616-75f8-4953-a768-bcb92882fe86",
        "colab": {
          "base_uri": "https://localhost:8080/",
          "height": 181
        }
      },
      "source": [
        "# Python program to demonstrate \n",
        "# binary operators in Numpy \n",
        "import numpy as np \n",
        "  \n",
        "a = np.array([[1, 2], \n",
        "            [3, 4]]) \n",
        "b = np.array([[4, 3], \n",
        "            [2, 1]]) \n",
        "  \n",
        "# add arrays \n",
        "print (\"Array sum:\\n\", a + b) \n",
        "  \n",
        "# multiply arrays (elementwise multiplication) \n",
        "print (\"Array multiplication:\\n\", a*b) \n",
        "  \n",
        "# matrix multiplication \n",
        "print (\"Matrix multiplication:\\n\", a.dot(b)) "
      ],
      "execution_count": 0,
      "outputs": [
        {
          "output_type": "stream",
          "text": [
            "Array sum:\n",
            " [[5 5]\n",
            " [5 5]]\n",
            "Array multiplication:\n",
            " [[4 6]\n",
            " [6 4]]\n",
            "Matrix multiplication:\n",
            " [[ 8  5]\n",
            " [20 13]]\n"
          ],
          "name": "stdout"
        }
      ]
    },
    {
      "cell_type": "markdown",
      "metadata": {
        "id": "gQXLtS9hu2b-",
        "colab_type": "text"
      },
      "source": [
        "## **d) Using Universal functions (ufunc)** \n",
        "\n",
        "**NumPy provides familiar mathematical functions such as sin, cos, exp, etc. These functions also operate elementwise on an array, producing an array as output.**\n",
        "\n",
        "**Note: All the operations we did above using overloaded operators can be done using ufuncs like np.add, np.subtract, np.multiply, np.divide, np.sum, etc.**"
      ]
    },
    {
      "cell_type": "code",
      "metadata": {
        "id": "PAUwAqqxu8Hl",
        "colab_type": "code",
        "outputId": "8c930ca8-0864-455e-8ab7-932be9fbc31d",
        "colab": {
          "base_uri": "https://localhost:8080/",
          "height": 108
        }
      },
      "source": [
        "# Python program to demonstrate \n",
        "# universal functions in numpy \n",
        "import numpy as np \n",
        "  \n",
        "# create an array of sine values \n",
        "a = np.array([0, np.pi/2, np.pi]) \n",
        "print(a)\n",
        "print (\"Sine values of array elements:\", np.sin(a)) \n",
        "  \n",
        "# exponential values \n",
        "a = np.array([0, 1, 2, 3]) \n",
        "print (\"Exponent of array elements:\", np.exp(a)) \n",
        "print(np.exp(1))\n",
        "  \n",
        "# square root of array values \n",
        "print (\"Square root of array elements:\", np.sqrt(a)) "
      ],
      "execution_count": 0,
      "outputs": [
        {
          "output_type": "stream",
          "text": [
            "[0.         1.57079633 3.14159265]\n",
            "Sine values of array elements: [0.0000000e+00 1.0000000e+00 1.2246468e-16]\n",
            "Exponent of array elements: [ 1.          2.71828183  7.3890561  20.08553692]\n",
            "2.718281828459045\n",
            "Square root of array elements: [0.         1.         1.41421356 1.73205081]\n"
          ],
          "name": "stdout"
        }
      ]
    },
    {
      "cell_type": "markdown",
      "metadata": {
        "id": "iCDmsQTkvwgT",
        "colab_type": "text"
      },
      "source": [
        "# **6) Arrays Sorting** \n",
        "\n",
        "**There is a simple np.sort method for sorting NumPy arrays. Let’s explore it a bit.**"
      ]
    },
    {
      "cell_type": "code",
      "metadata": {
        "id": "MoPIW9Yhv3Tl",
        "colab_type": "code",
        "outputId": "9e9ce93e-4716-4daf-823b-f538c7c3a985",
        "colab": {
          "base_uri": "https://localhost:8080/",
          "height": 254
        }
      },
      "source": [
        "# Python program to demonstrate sorting in numpy \n",
        "import numpy as np \n",
        "  \n",
        "a = np.array([[1, 4, 2], \n",
        "                 [3, 4, 6], \n",
        "              [0, -1, 5]]) \n",
        "\n",
        "print(a)\n",
        "  \n",
        "# sorted array \n",
        "print (\"Array elements in sorted order:\\n\", \n",
        "                    np.sort(a, axis = None)) \n",
        "  \n",
        "# sort array row-wise \n",
        "print (\"Row-wise sorted array:\\n\", \n",
        "                np.sort(a, axis = 1)) \n",
        "  \n",
        "# specify sort algorithm \n",
        "print (\"Column wise sort by applying merge-sort:\\n\", \n",
        "            np.sort(a, axis = 0, kind = 'mergesort')) \n",
        "  \n"
      ],
      "execution_count": 0,
      "outputs": [
        {
          "output_type": "stream",
          "text": [
            "[[ 1  4  2]\n",
            " [ 3  4  6]\n",
            " [ 0 -1  5]]\n",
            "Array elements in sorted order:\n",
            " [-1  0  1  2  3  4  4  5  6]\n",
            "Row-wise sorted array:\n",
            " [[ 1  2  4]\n",
            " [ 3  4  6]\n",
            " [-1  0  5]]\n",
            "Column wise sort by applying merge-sort:\n",
            " [[ 0 -1  2]\n",
            " [ 1  4  5]\n",
            " [ 3  4  6]]\n"
          ],
          "name": "stdout"
        }
      ]
    },
    {
      "cell_type": "markdown",
      "metadata": {
        "id": "gRiQYcSFQZhZ",
        "colab_type": "text"
      },
      "source": [
        "# **7) Reshaping of Arrays**"
      ]
    },
    {
      "cell_type": "code",
      "metadata": {
        "id": "FDu5AEcPQURy",
        "colab_type": "code",
        "outputId": "bbedf1f3-fc18-407d-d5af-2ae372683dc2",
        "colab": {
          "base_uri": "https://localhost:8080/",
          "height": 526
        }
      },
      "source": [
        "# Reshaping 3X4 array to 2X2X3 array \n",
        "arr = np.array([[1, 2, 3, 4], \n",
        "                [5, 2, 4, 2], \n",
        "                [1, 2, 0, 1]]) \n",
        "print (\"\\nOriginal array:\\n\", arr) \n",
        "newarr1 = arr.T\n",
        "newarr1\n",
        "print(\"\\nTranspose of the array:\\n\", newarr1)\n",
        "newarr = arr.reshape(2, 2, 3) \n",
        "print (\"\\nOriginal array:\\n\", arr) \n",
        "print (\"Reshaped array:\\n\", newarr) # Flatten array \n",
        "arr = np.array([[1, 2, 3], [4, 5, 6]]) \n",
        "flarr = arr.flatten() \n",
        "  \n",
        "print (\"\\nOriginal array:\\n\", arr) \n",
        "print (\"Flattened array:\\n\", flarr) \n",
        "\n"
      ],
      "execution_count": 0,
      "outputs": [
        {
          "output_type": "stream",
          "text": [
            "\n",
            "Original array:\n",
            " [[1 2 3 4]\n",
            " [5 2 4 2]\n",
            " [1 2 0 1]]\n",
            "\n",
            "Transpose of the array:\n",
            " [[1 5 1]\n",
            " [2 2 2]\n",
            " [3 4 0]\n",
            " [4 2 1]]\n",
            "\n",
            "Original array:\n",
            " [[1 2 3 4]\n",
            " [5 2 4 2]\n",
            " [1 2 0 1]]\n",
            "Reshaped array:\n",
            " [[[1 2 3]\n",
            "  [4 5 2]]\n",
            "\n",
            " [[4 2 1]\n",
            "  [2 0 1]]]\n",
            "\n",
            "Original array:\n",
            " [[1 2 3]\n",
            " [4 5 6]]\n",
            "Flattened array:\n",
            " [1 2 3 4 5 6]\n"
          ],
          "name": "stdout"
        }
      ]
    },
    {
      "cell_type": "code",
      "metadata": {
        "id": "7TXaLaZpPzV7",
        "colab_type": "code",
        "colab": {}
      },
      "source": [
        ""
      ],
      "execution_count": 0,
      "outputs": []
    }
  ]
}